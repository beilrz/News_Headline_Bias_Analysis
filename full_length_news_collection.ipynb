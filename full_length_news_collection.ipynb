{
 "cells": [
  {
   "cell_type": "markdown",
   "id": "56e66818-3160-429a-a8f3-79b3d9173a43",
   "metadata": {},
   "source": [
    "# Collect full length news article"
   ]
  },
  {
   "cell_type": "markdown",
   "id": "a23f84e0-f1ee-456b-adab-cf994731d3ad",
   "metadata": {},
   "source": [
    "File for collecting full length news article by populating the SQS event queue."
   ]
  },
  {
   "cell_type": "markdown",
   "id": "45c134a4-16e4-4380-8784-755b9faadc97",
   "metadata": {},
   "source": [
    "## Data Overview"
   ]
  },
  {
   "cell_type": "code",
   "execution_count": 1,
   "id": "33304334-3a14-4c72-8f23-8c7d70cbd5ef",
   "metadata": {},
   "outputs": [],
   "source": [
    "import numpy as np, pandas as pd\n",
    "\n",
    "pd.set_option('display.max_colwidth', None)"
   ]
  },
  {
   "cell_type": "code",
   "execution_count": 27,
   "id": "513e9689-2e59-4184-87ec-e45609d6d4a2",
   "metadata": {},
   "outputs": [
    {
     "data": {
      "text/html": [
       "<div>\n",
       "<style scoped>\n",
       "    .dataframe tbody tr th:only-of-type {\n",
       "        vertical-align: middle;\n",
       "    }\n",
       "\n",
       "    .dataframe tbody tr th {\n",
       "        vertical-align: top;\n",
       "    }\n",
       "\n",
       "    .dataframe thead th {\n",
       "        text-align: right;\n",
       "    }\n",
       "</style>\n",
       "<table border=\"1\" class=\"dataframe\">\n",
       "  <thead>\n",
       "    <tr style=\"text-align: right;\">\n",
       "      <th></th>\n",
       "      <th>url</th>\n",
       "      <th>headline</th>\n",
       "      <th>datePublished_site</th>\n",
       "      <th>probability</th>\n",
       "      <th>date_collected</th>\n",
       "      <th>siteName</th>\n",
       "    </tr>\n",
       "  </thead>\n",
       "  <tbody>\n",
       "    <tr>\n",
       "      <th>1339661</th>\n",
       "      <td>https://slate.com/human-interest/2024/02/grief-storage-dear-prudence-advice.html</td>\n",
       "      <td>Help! My Stepdaughter Is Using My Guest Room to Store Her Grief—Literally.</td>\n",
       "      <td>None</td>\n",
       "      <td>0.573881</td>\n",
       "      <td>2024020400</td>\n",
       "      <td>Slate</td>\n",
       "    </tr>\n",
       "    <tr>\n",
       "      <th>963026</th>\n",
       "      <td>None</td>\n",
       "      <td>None</td>\n",
       "      <td>None</td>\n",
       "      <td>0.351000</td>\n",
       "      <td>2024012508</td>\n",
       "      <td>TheGuardian</td>\n",
       "    </tr>\n",
       "    <tr>\n",
       "      <th>109978</th>\n",
       "      <td>https://nypost.com/2024/01/03/news/massachusetts-kamal-family-cause-of-death-in-5-million-mansion-revealed/</td>\n",
       "      <td>Cause of death revealed after family found dead in $5M Mass. mansion</td>\n",
       "      <td>None</td>\n",
       "      <td>0.901283</td>\n",
       "      <td>2024010318</td>\n",
       "      <td>NewYorkPost(News)</td>\n",
       "    </tr>\n",
       "    <tr>\n",
       "      <th>1157024</th>\n",
       "      <td>https://reason.com/2024/01/29/utah-would-rather-repeal-social-media-age-check-law-than-defend-it-in-court/</td>\n",
       "      <td>Utah Would Rather Repeal Social Media Age Check Law Than Defend It In Court</td>\n",
       "      <td>2024-01-29T12:00:00</td>\n",
       "      <td>0.961911</td>\n",
       "      <td>2024013010</td>\n",
       "      <td>Reason</td>\n",
       "    </tr>\n",
       "    <tr>\n",
       "      <th>1146691</th>\n",
       "      <td>https://decider.com/2024/01/29/oppenheimer-florence-pugh-camera-broke-naked-filming-sex-scene-cillian-murphy/</td>\n",
       "      <td>'Oppenheimer' Star Florence Pugh Reveals The Camera Broke While She Was \"Naked\" And Filming Sex Scene With Cillian Murphy: \"Not Ideal Timing\"</td>\n",
       "      <td>None</td>\n",
       "      <td>0.917227</td>\n",
       "      <td>2024013004</td>\n",
       "      <td>NewYorkPost(News)</td>\n",
       "    </tr>\n",
       "    <tr>\n",
       "      <th>105638</th>\n",
       "      <td>None</td>\n",
       "      <td>39</td>\n",
       "      <td>None</td>\n",
       "      <td>0.809540</td>\n",
       "      <td>2024010316</td>\n",
       "      <td>DailyMail</td>\n",
       "    </tr>\n",
       "    <tr>\n",
       "      <th>864712</th>\n",
       "      <td>None</td>\n",
       "      <td>Seven of Stockholm's best spa experiences</td>\n",
       "      <td>None</td>\n",
       "      <td>0.663430</td>\n",
       "      <td>2024012220</td>\n",
       "      <td>BBCNews</td>\n",
       "    </tr>\n",
       "    <tr>\n",
       "      <th>43116</th>\n",
       "      <td>https://www.buzzfeednews.com/article/ellendurney/2023-breakups-prove-men-cant-handle-superstar-women</td>\n",
       "      <td>The Celebrity Breakups Of 2023 Prove That Not All Men Are Made To Be With Superstar Women</td>\n",
       "      <td>None</td>\n",
       "      <td>0.979589</td>\n",
       "      <td>2024010202</td>\n",
       "      <td>BuzzFeedNews</td>\n",
       "    </tr>\n",
       "    <tr>\n",
       "      <th>860505</th>\n",
       "      <td>https://www.theepochtimes.com/bright/one-mans-journey-the-art-of-healing-by-the-heart-5564103</td>\n",
       "      <td>‘One Man’s Journey’: The Art of Healing by the Heart</td>\n",
       "      <td>None</td>\n",
       "      <td>0.860954</td>\n",
       "      <td>2024012216</td>\n",
       "      <td>TheEpochTimes</td>\n",
       "    </tr>\n",
       "    <tr>\n",
       "      <th>1026583</th>\n",
       "      <td>https://www.bloomberg.com/news/videos/2024-01-11/why-the-price-of-money-is-going-up?srnd=premium-canada</td>\n",
       "      <td>Why the Price of Money Is Going Up</td>\n",
       "      <td>None</td>\n",
       "      <td>0.870749</td>\n",
       "      <td>2024012704</td>\n",
       "      <td>Bloomberg</td>\n",
       "    </tr>\n",
       "  </tbody>\n",
       "</table>\n",
       "</div>"
      ],
      "text/plain": [
       "                                                                                                                   url  \\\n",
       "1339661                               https://slate.com/human-interest/2024/02/grief-storage-dear-prudence-advice.html   \n",
       "963026                                                                                                            None   \n",
       "109978     https://nypost.com/2024/01/03/news/massachusetts-kamal-family-cause-of-death-in-5-million-mansion-revealed/   \n",
       "1157024     https://reason.com/2024/01/29/utah-would-rather-repeal-social-media-age-check-law-than-defend-it-in-court/   \n",
       "1146691  https://decider.com/2024/01/29/oppenheimer-florence-pugh-camera-broke-naked-filming-sex-scene-cillian-murphy/   \n",
       "105638                                                                                                            None   \n",
       "864712                                                                                                            None   \n",
       "43116             https://www.buzzfeednews.com/article/ellendurney/2023-breakups-prove-men-cant-handle-superstar-women   \n",
       "860505                   https://www.theepochtimes.com/bright/one-mans-journey-the-art-of-healing-by-the-heart-5564103   \n",
       "1026583        https://www.bloomberg.com/news/videos/2024-01-11/why-the-price-of-money-is-going-up?srnd=premium-canada   \n",
       "\n",
       "                                                                                                                                              headline  \\\n",
       "1339661                                                                     Help! My Stepdaughter Is Using My Guest Room to Store Her Grief—Literally.   \n",
       "963026                                                                                                                                            None   \n",
       "109978                                                                            Cause of death revealed after family found dead in $5M Mass. mansion   \n",
       "1157024                                                                    Utah Would Rather Repeal Social Media Age Check Law Than Defend It In Court   \n",
       "1146691  'Oppenheimer' Star Florence Pugh Reveals The Camera Broke While She Was \"Naked\" And Filming Sex Scene With Cillian Murphy: \"Not Ideal Timing\"   \n",
       "105638                                                                                                                                              39   \n",
       "864712                                                                                                       Seven of Stockholm's best spa experiences   \n",
       "43116                                                        The Celebrity Breakups Of 2023 Prove That Not All Men Are Made To Be With Superstar Women   \n",
       "860505                                                                                            ‘One Man’s Journey’: The Art of Healing by the Heart   \n",
       "1026583                                                                                                             Why the Price of Money Is Going Up   \n",
       "\n",
       "          datePublished_site  probability date_collected           siteName  \n",
       "1339661                 None     0.573881     2024020400              Slate  \n",
       "963026                  None     0.351000     2024012508        TheGuardian  \n",
       "109978                  None     0.901283     2024010318  NewYorkPost(News)  \n",
       "1157024  2024-01-29T12:00:00     0.961911     2024013010             Reason  \n",
       "1146691                 None     0.917227     2024013004  NewYorkPost(News)  \n",
       "105638                  None     0.809540     2024010316          DailyMail  \n",
       "864712                  None     0.663430     2024012220            BBCNews  \n",
       "43116                   None     0.979589     2024010202       BuzzFeedNews  \n",
       "860505                  None     0.860954     2024012216      TheEpochTimes  \n",
       "1026583                 None     0.870749     2024012704          Bloomberg  "
      ]
     },
     "execution_count": 27,
     "metadata": {},
     "output_type": "execute_result"
    }
   ],
   "source": [
    "df = pd.read_parquet(\"./data/data_domestic_news.parquet\")\n",
    "df.sample(n=10)"
   ]
  },
  {
   "cell_type": "code",
   "execution_count": 28,
   "id": "d7e2ca36-590a-4a23-a29d-229a8309e255",
   "metadata": {},
   "outputs": [
    {
     "data": {
      "text/plain": [
       "804243                https://pagesix.com/2024/01/20/celebrity-news/gabrielle-union-and-dwyane-wades-daughter-kaavia-5-sweetly-sings-happy-birthday/\n",
       "268484                                               https://abcnews.go.com/GMA/Living/video/cecil-dog-eats-thousands-dollars-owners-money-106140807\n",
       "1369574    https://www.dailymail.co.uk/femail/article-13029563/Wardrobe-malfunctions-Celeb-stylist-pro-tips-double-sided-tape-fashion-solutions.html\n",
       "406698                                      https://thefederalist.com/2024/01/10/gypsy-rose-needs-psychological-help-not-a-fawning-spot-on-the-view/\n",
       "173859                  https://www.economist.com/the-world-ahead/2023/11/13/america-will-need-a-new-vocabulary-to-discuss-its-presidential-election\n",
       "1328728                                                https://www.nbcnews.com/news/nbcblk/mlkx-aims-offer-fuller-picture-two-icons-wives-rcna135869\n",
       "789953                   https://www.cbsnews.com/news/convicted-killer-euren-balbuena-attacked-victims-stepdad-sentencing-murder-zaira-patino-trejo/\n",
       "1367495                                                     https://www.theatlantic.com/ideas/archive/2024/02/milo-rau-edgy-theater-director/677332/\n",
       "869458                                                            https://www.nytimes.com/2024/01/22/opinion/desantis-haley-trump-2024-election.html\n",
       "833517                                                                                            https://www.newsweek.com/podcasts/the-parting-shot\n",
       "Name: url, dtype: object"
      ]
     },
     "execution_count": 28,
     "metadata": {},
     "output_type": "execute_result"
    }
   ],
   "source": [
    "df[\"url\"].sample(10)"
   ]
  },
  {
   "cell_type": "code",
   "execution_count": null,
   "id": "7679ea8b-5f53-4bcd-a2f8-ca4848d5fe0d",
   "metadata": {},
   "outputs": [],
   "source": [
    "# get md5 hash an unique identifier for article\n",
    "s = \"https://www.bloomberg.com/news/videos/2024-01-11/why-the-price-of-money-is-going-up?srnd=premium-canada\"\n",
    "md5_hash = hashlib.md5(s.encode()).hexdigest()\n",
    "md5_hash"
   ]
  },
  {
   "cell_type": "markdown",
   "id": "3b8bc6eb-ecd3-4b5d-9280-9e10f1829df8",
   "metadata": {},
   "source": [
    "## Send Data to SQS Queue"
   ]
  },
  {
   "cell_type": "markdown",
   "id": "5918f42e-a4e7-41fa-a906-b2726f87ef44",
   "metadata": {},
   "source": [
    "Sending data to SQS for article collection"
   ]
  },
  {
   "cell_type": "code",
   "execution_count": 69,
   "id": "d3f9a4a1-0cf6-44a0-8ad3-8c6e8ef8f281",
   "metadata": {},
   "outputs": [],
   "source": [
    "from tqdm import tqdm\n",
    "import boto3\n",
    "import uuid"
   ]
  },
  {
   "cell_type": "code",
   "execution_count": 80,
   "id": "b8b0f423-0b31-4b12-b680-045e2e9f924c",
   "metadata": {},
   "outputs": [
    {
     "name": "stderr",
     "output_type": "stream",
     "text": [
      "100%|██████████████████████████████████████████████████████████████████████████████████████████████████████████████████████████████████████████████████████████████| 124973/124973 [02:15<00:00, 920.24it/s]\n"
     ]
    }
   ],
   "source": [
    "sqs = boto3.client('sqs')\n",
    "queue_url = 'news_article_collection'\n",
    "\n",
    "messages_batch = []\n",
    "for x in tqdm(df[\"url\"].unique()):\n",
    "    if len(messages_batch) >= 10:\n",
    "        # send message\n",
    "        response = sqs.send_message_batch(\n",
    "            QueueUrl=queue_url,\n",
    "            Entries=messages_batch)\n",
    "\n",
    "        # empty the batch\n",
    "        messages_batch = []\n",
    "\n",
    "    message = {\"Id\" : str(uuid.uuid4()), \"MessageBody\" : json.dumps({\"url\" : x})}\n",
    "    messages_batch.append(message)"
   ]
  }
 ],
 "metadata": {
  "kernelspec": {
   "display_name": "Python 3 (ipykernel)",
   "language": "python",
   "name": "python3"
  },
  "language_info": {
   "codemirror_mode": {
    "name": "ipython",
    "version": 3
   },
   "file_extension": ".py",
   "mimetype": "text/x-python",
   "name": "python",
   "nbconvert_exporter": "python",
   "pygments_lexer": "ipython3",
   "version": "3.9.16"
  }
 },
 "nbformat": 4,
 "nbformat_minor": 5
}
