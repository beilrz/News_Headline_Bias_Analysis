{
 "cells": [
  {
   "cell_type": "markdown",
   "id": "170ec075-8dd5-4c05-8345-5caf09a1d5f9",
   "metadata": {},
   "source": [
    "# Collection Success Rate Analysis"
   ]
  },
  {
   "cell_type": "markdown",
   "id": "1c17bb59-5da3-4e82-bc13-78e1a65cb704",
   "metadata": {},
   "source": [
    "Analyze the collection success rate of automated collection framework by reading the files in a S3 bucket: overall, the success rate is above 90%. \n",
    "<br>\n",
    "Last Run: 6/4/2024"
   ]
  },
  {
   "cell_type": "code",
   "execution_count": 2,
   "id": "f7b61764-9665-4834-9e91-cbb42cae416c",
   "metadata": {},
   "outputs": [],
   "source": [
    "import pandas as pd\n",
    "import boto3\n",
    "from tqdm import tqdm"
   ]
  },
  {
   "cell_type": "code",
   "execution_count": 32,
   "id": "e89399d9-4fac-41fb-9578-fc8d217ac75b",
   "metadata": {},
   "outputs": [],
   "source": [
    "# for domestic sites\n",
    "total_domestic_sites = 45\n",
    "\n",
    "def list_all_objects(bucket, prefix):\n",
    "    s3 = boto3.client('s3')\n",
    "\n",
    "    # get the first 1000\n",
    "    continuation_token = None\n",
    "    response = s3.list_objects_v2(Bucket=bucket, Prefix=prefix, Delimiter=\"/\")\n",
    "    CommonPrefixes = response.get('CommonPrefixes', [])\n",
    "    continuation_token = response.get(\"NextContinuationToken\", None)\n",
    "    # continue if there is more\n",
    "    while continuation_token is not None:\n",
    "        response = s3.list_objects_v2(Bucket=bucket, Prefix=prefix, Delimiter=\"/\", ContinuationToken=continuation_token)\n",
    "        CommonPrefixes += response.get('CommonPrefixes', [])\n",
    "\n",
    "        # get next token\n",
    "        continuation_token = response.get(\"NextContinuationToken\", None)\n",
    "        \n",
    "    return CommonPrefixes\n",
    "\n",
    "def update_collection_rate_stats(local_stats_path, s3_bucket, prefix, total_sites):\n",
    "    # read existing data\n",
    "    df = pd.read_csv(local_stats_path, dtype={'time': str})\n",
    "\n",
    "    # get new data\n",
    "    response = list_all_objects(s3_bucket, prefix)\n",
    "    new_data = []\n",
    "    collected_time = df[\"time\"].to_list()\n",
    "\n",
    "    # update existing data\n",
    "    s3 = boto3.client('s3')\n",
    "    for folder_name in tqdm(response):\n",
    "        folder_name = folder_name[\"Prefix\"]\n",
    "        time = folder_name.split(\"/\")[-2]\n",
    "\n",
    "        # check if datapoint is collected\n",
    "        if time in collected_time:\n",
    "            continue\n",
    "\n",
    "        # not collected\n",
    "        datapoint_res = s3.list_objects_v2(Bucket=s3_bucket, Prefix=folder_name + \"html/\")\n",
    "        collectionn_rate = len(datapoint_res[\"Contents\"]) / total_domestic_sites\n",
    "        new_data.append({\"time\" : str(time), \"collection_rate\" : collectionn_rate})\n",
    "    \n",
    "    new_df = pd.concat([df, pd.DataFrame(new_data)], ignore_index=True)\n",
    "    new_df.to_csv(local_stats_path, index=False) # update saved data\n",
    "\n",
    "    return new_df"
   ]
  },
  {
   "cell_type": "code",
   "execution_count": 33,
   "id": "9811c464-0ea7-47bb-a5c3-6c945281c209",
   "metadata": {},
   "outputs": [
    {
     "name": "stderr",
     "output_type": "stream",
     "text": [
      "100%|███████████████████████████████████████████████████████████████████████████████████████████████████████████████████████████████████████████████| 1868/1868 [00:24<00:00, 74.74it/s]\n"
     ]
    }
   ],
   "source": [
    "t = update_collection_rate_stats(\"./data/collection_rate/collection_rate_domestic.csv\", \"news-collection-2024-3371\", \"current_data/\", total_domestic_sites)"
   ]
  },
  {
   "cell_type": "code",
   "execution_count": 34,
   "id": "f4e15b67-4b6d-4fed-bce9-7e92c4e0001f",
   "metadata": {},
   "outputs": [
    {
     "data": {
      "text/plain": [
       "0.9765762550559124"
      ]
     },
     "execution_count": 34,
     "metadata": {},
     "output_type": "execute_result"
    }
   ],
   "source": [
    "# collection success rate for Jan and Feb\n",
    "sum(t[\"collection_rate\"]) / len(t[\"collection_rate\"])"
   ]
  }
 ],
 "metadata": {
  "kernelspec": {
   "display_name": "Python 3 (ipykernel)",
   "language": "python",
   "name": "python3"
  },
  "language_info": {
   "codemirror_mode": {
    "name": "ipython",
    "version": 3
   },
   "file_extension": ".py",
   "mimetype": "text/x-python",
   "name": "python",
   "nbconvert_exporter": "python",
   "pygments_lexer": "ipython3",
   "version": "3.9.16"
  }
 },
 "nbformat": 4,
 "nbformat_minor": 5
}
