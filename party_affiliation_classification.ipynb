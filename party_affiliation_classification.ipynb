{
 "cells": [
  {
   "cell_type": "markdown",
   "id": "a95daa2a-faeb-4679-b6f8-ead65bdf9bb8",
   "metadata": {},
   "source": [
    "# Party Affiliation Classification"
   ]
  },
  {
   "cell_type": "markdown",
   "id": "7609f902-30dc-45e3-baf4-da717a9fce43",
   "metadata": {},
   "source": [
    "This file is for building a classifier that distinguish whether a name is affiliate with the Republican party in the US, Democratic party in the US, or neither. For example, input “Trump” will be classified as Republican, while input “Biden” or “Joe Biden” will be classified as democrats. All input is already identified as names by the BERT NER classifier.rs.\r\n"
   ]
  },
  {
   "cell_type": "markdown",
   "id": "d7406c98-60ac-4d05-aeef-739aec80d0d4",
   "metadata": {},
   "source": [
    "The classifier is based on a random forest classifier to classify the embedding of names, where the intuition is that the LLM based embedding will capture the context of the names (party affiliation), especially if they are famous enough to appear on the frontpage of news medi\n",
    "a.\n",
    "\n"
   ]
  },
  {
   "cell_type": "markdown",
   "id": "5e8d5fad-2750-4707-b2f9-804ffe25a081",
   "metadata": {},
   "source": [
    "As a proof-of-concept design, I manually verify the top 1000 most frequent named entities. In future, the output of classifier should be more formally investigated based on the result of multiple human annotatrs.\n"
   ]
  },
  {
   "cell_type": "markdown",
   "id": "ebbb2be1-ad5e-43f9-8ca4-3755a55b6b30",
   "metadata": {
    "jp-MarkdownHeadingCollapsed": true
   },
   "source": [
    "## Collect Party-affliated Names"
   ]
  },
  {
   "cell_type": "markdown",
   "id": "f7d7f552-b83c-4cf9-8797-a231f2e288e1",
   "metadata": {},
   "source": [
    "In this part, I collect names that are affliated with the Republican and Democrates parties from Wikipedia and YouGov.com."
   ]
  },
  {
   "cell_type": "markdown",
   "id": "d9ff0935-fb85-4fb2-9cc6-51a5fb339359",
   "metadata": {},
   "source": [
    "### From Wikipedia"
   ]
  },
  {
   "cell_type": "markdown",
   "id": "c7723bc2-9092-4cc1-90fd-f9285bbade3c",
   "metadata": {},
   "source": [
    "Scrape data of Republican and Democrats names from wikipedia pages."
   ]
  },
  {
   "cell_type": "code",
   "execution_count": 1,
   "id": "2a5d1d52-0281-4599-973f-3e48b4684f10",
   "metadata": {},
   "outputs": [],
   "source": [
    "from base64 import b64decode\n",
    "import requests, os\n",
    "from bs4 import BeautifulSoup\n",
    "from urllib.parse import urljoin\n",
    "from tqdm import tqdm\n",
    "import csv\n",
    "\n",
    "# request a webpage through zyte proxy\n",
    "def request_page_with_zyte(url, auth = os.environ[\"ZYTE_KEY\"]):\n",
    "    api_response = requests.post(\n",
    "    \"https://api.zyte.com/v1/extract\",\n",
    "    auth=(auth, \"\"),\n",
    "    json={\n",
    "        \"url\": url,\n",
    "        \"httpResponseBody\": True,\n",
    "        })\n",
    "    http_response_body: bytes = b64decode(\n",
    "        api_response.json()[\"httpResponseBody\"])\n",
    "\n",
    "    return http_response_body"
   ]
  },
  {
   "cell_type": "code",
   "execution_count": 156,
   "id": "6bb1f046-8d6f-4a0d-96f8-0a5dbe9dff7e",
   "metadata": {},
   "outputs": [],
   "source": [
    "def get_state_pages(url):\n",
    "    page = request_page_with_zyte(url)\n",
    "    \n",
    "    soup = BeautifulSoup(page, 'html.parser')\n",
    "    elements = soup.find(\"div\", class_=\"mw-category mw-category-columns\").find_all(\"a\")\n",
    "    \n",
    "    # Print each element found\n",
    "    page_urls = []\n",
    "    for e in elements:\n",
    "        if e.has_attr(\"href\"):\n",
    "            page_url = e[\"href\"]\n",
    "            page_urls.append(urljoin(url, page_url))\n",
    "\n",
    "    return page_urls"
   ]
  },
  {
   "cell_type": "code",
   "execution_count": 157,
   "id": "68f45353-709b-4313-a343-2ce50c821ab7",
   "metadata": {
    "scrolled": true
   },
   "outputs": [],
   "source": [
    "republican_pages = get_state_pages(\"https://en.wikipedia.org/wiki/Category:Republicans_(United_States)_by_state\")\n",
    "democrats_pages = get_state_pages(\"https://en.wikipedia.org/wiki/Category:Democrats_(United_States)_by_state\")"
   ]
  },
  {
   "cell_type": "code",
   "execution_count": 489,
   "id": "f91adce8-cb95-475f-b14a-4a59dc597740",
   "metadata": {},
   "outputs": [],
   "source": [
    "def get_state_wiki_page_names(page_url):\n",
    "    page_content = request_page_with_zyte(page_url)\n",
    "    soup = BeautifulSoup(page_content, 'html.parser')\n",
    "    elements = soup.find_all(\"div\", class_=\"mw-category\")[-1].find_all(\"a\")\n",
    "\n",
    "    # names for party members\n",
    "    names = []\n",
    "    for x in elements:\n",
    "        if not x.has_attr(\"href\"): \n",
    "            continue\n",
    "        name = x[\"href\"].split(\"/\")[-1]\n",
    "        if name.find(\"(\") != -1:\n",
    "            name = name[:name.find(\"(\") - 1]\n",
    "\n",
    "        # replace _ in url and process unicode\n",
    "        names.append(unquote(name.replace(\"_\", \" \")))\n",
    "\n",
    "    for x in soup.find_all(\"a\"):\n",
    "        if x.text == \"next page\":\n",
    "            # phrase content in the next page also\n",
    "            names += get_state_wiki_page_names(urljoin(page_url, x[\"href\"]))\n",
    "            break\n",
    "     \n",
    "    return names"
   ]
  },
  {
   "cell_type": "code",
   "execution_count": 490,
   "id": "9273b5c3-a25c-4ed2-ae00-ff0894947850",
   "metadata": {},
   "outputs": [
    {
     "name": "stderr",
     "output_type": "stream",
     "text": [
      "100%|████████████████████████████████████████████████████████████████████████████████████████████████████████████████████████████████████████████████████████████████████████████████████████████████████| 50/50 [00:47<00:00,  1.06it/s]\n",
      "100%|████████████████████████████████████████████████████████████████████████████████████████████████████████████████████████████████████████████████████████████████████████████████████████████████████| 50/50 [00:47<00:00,  1.04it/s]\n"
     ]
    }
   ],
   "source": [
    "# get republican and democrats names\n",
    "republican_names = []\n",
    "for x in tqdm(republican_pages):\n",
    "    republican_names += get_state_wiki_page_names(x)\n",
    "\n",
    "democrats_names = []\n",
    "for x in tqdm(democrats_pages):\n",
    "    democrats_names += get_state_wiki_page_names(x)"
   ]
  },
  {
   "cell_type": "code",
   "execution_count": 493,
   "id": "f1ea52bd-fafd-47ec-8e89-06713673b410",
   "metadata": {},
   "outputs": [],
   "source": [
    "# save the names\n",
    "def save_csv(file_name, data):\n",
    "    with open(file_name, mode='w', newline='', encoding='utf-8') as file:\n",
    "        writer = csv.writer(file, delimiter=',', quotechar='\"', quoting=csv.QUOTE_MINIMAL)\n",
    "        \n",
    "        for row in data:\n",
    "            writer.writerow(row)\n",
    "\n",
    "save_csv(\"republican_names.csv\", republican_names)\n",
    "save_csv(\"democrats_names.csv\", democrats_names)"
   ]
  },
  {
   "cell_type": "markdown",
   "id": "ccc628f7-4967-4947-a2e8-e6ceff471efb",
   "metadata": {
    "jp-MarkdownHeadingCollapsed": true
   },
   "source": [
    "### From yougov.com"
   ]
  },
  {
   "cell_type": "markdown",
   "id": "1f92c38d-6f4e-41ed-b523-227f71f6c68e",
   "metadata": {},
   "source": [
    "Scrape data from yougov.com for high influencial political figure"
   ]
  },
  {
   "cell_type": "code",
   "execution_count": 43,
   "id": "cfe25d61-e554-447e-8aa2-219eba5686bf",
   "metadata": {},
   "outputs": [],
   "source": [
    "# webpage from https://today.yougov.com/ratings/politics/fame/Republicans/all\n",
    "# and https://today.yougov.com/ratings/politics/fame/Democrats/all"
   ]
  },
  {
   "cell_type": "code",
   "execution_count": 163,
   "id": "9ef8578b-08fc-4201-aea2-f14058634512",
   "metadata": {},
   "outputs": [],
   "source": [
    "import csv\n",
    "\n",
    "def read_csv_name(path):\n",
    "    names = []\n",
    "    with open(path, newline='') as csvfile:\n",
    "        spamreader = csv.reader(csvfile, delimiter=' ', quotechar='|')\n",
    "        for row in spamreader:\n",
    "            names.append(\" \".join(row))\n",
    "             \n",
    "    return names\n",
    "\n",
    "D_names = read_csv_name(\"data/party_afffliation_classfication/national_politician_webpage/famous_D_names.csv\")\n",
    "R_names = read_csv_name(\"data/party_afffliation_classfication/national_politician_webpage/famous_R_names.csv\")"
   ]
  },
  {
   "cell_type": "code",
   "execution_count": 175,
   "id": "e82773a8-ae85-4d84-8b2f-3a91292021a8",
   "metadata": {
    "scrolled": true
   },
   "outputs": [],
   "source": [
    "names = list(zip(R_names, [\"republican\"] * len(R_names)))\n",
    "names +=  list(zip(D_names, [\"democrats\"] * len(D_names)))\n",
    "\n",
    "df = pd.DataFrame(names, columns=['Name', 'Party'])"
   ]
  },
  {
   "cell_type": "markdown",
   "id": "7ab97319-196f-4f61-a904-759e084c676d",
   "metadata": {},
   "source": [
    "## OPENAI Embedding "
   ]
  },
  {
   "cell_type": "markdown",
   "id": "6596c1c7-8300-4844-8200-d4f33fc0e541",
   "metadata": {},
   "source": [
    "Request embedding vectors from text-embedding-3-large model political names."
   ]
  },
  {
   "cell_type": "code",
   "execution_count": 17,
   "id": "e0c885a8-912c-4d18-ae6c-580f2ce07689",
   "metadata": {},
   "outputs": [],
   "source": [
    "from openai import OpenAI\n",
    "import os\n",
    "from tenacity import retry, stop_after_attempt, wait_fixed\n",
    "from tqdm import tqdm"
   ]
  },
  {
   "cell_type": "code",
   "execution_count": 18,
   "id": "67ce8d1b-a3f0-4bf4-b19d-dc6b86451cc8",
   "metadata": {},
   "outputs": [],
   "source": [
    "client = OpenAI()\n",
    "\n",
    "@retry(stop=stop_after_attempt(7), wait=wait_fixed(5))\n",
    "def get_embedding(text, client = client, model=\"text-embedding-3-large\"):\n",
    "   text = text.replace(\"\\n\", \" \")\n",
    "   return client.embeddings.create(input = [text], model=model).data[0].embedding"
   ]
  },
  {
   "cell_type": "code",
   "execution_count": 181,
   "id": "61aef939-302d-41b9-b219-2dd25a3e1ece",
   "metadata": {},
   "outputs": [
    {
     "name": "stderr",
     "output_type": "stream",
     "text": [
      "100%|███████████████████████████████████████████████████████████████████████████████████████████████████████████████████████████████████████████████████████████████████████████████████████| 281/281 [01:13<00:00,  3.81it/s]\n"
     ]
    }
   ],
   "source": [
    "# request embedding\n",
    "tqdm.pandas()\n",
    "\n",
    "df[\"embedding\"] = df[\"Name\"].progress_apply(lambda x: get_embedding(x))"
   ]
  },
  {
   "cell_type": "code",
   "execution_count": 23,
   "id": "eebfb898-3b86-4d8b-b5ea-88bf83a8b7d7",
   "metadata": {},
   "outputs": [],
   "source": [
    "# save the data\n",
    "df.to_parquet(\"./data/party_afffliation_classfication/politcal_name_embedding_famous.parquet\")"
   ]
  },
  {
   "cell_type": "markdown",
   "id": "18cb24dc-e493-4c40-813f-2006c81e6446",
   "metadata": {},
   "source": [
    "## Classifier Training"
   ]
  },
  {
   "cell_type": "markdown",
   "id": "d4edada4-8f33-4561-a8b7-b54806f4b646",
   "metadata": {},
   "source": [
    "Train a classifier for embedding vector to classify whether it is a Republican or Democrats name, using random forest."
   ]
  },
  {
   "cell_type": "code",
   "execution_count": 24,
   "id": "ddcdab31-4ff9-4989-8e0c-3f7462e5560c",
   "metadata": {},
   "outputs": [],
   "source": [
    "import pandas as pd, numpy as np\n",
    "from sklearn.pipeline import make_pipeline\n",
    "from sklearn.preprocessing import StandardScaler\n",
    "from sklearn.model_selection import train_test_split\n",
    "from sklearn.ensemble import RandomForestClassifier\n",
    "from sklearn.metrics import classification_report, accuracy_score\n",
    "\n",
    "df = pd.read_parquet(\"./data/party_afffliation_classfication/politcal_name_embedding_famous.parquet\")"
   ]
  },
  {
   "cell_type": "code",
   "execution_count": 25,
   "id": "07a60658-748b-4e15-b1a5-5f443f9ae7b3",
   "metadata": {},
   "outputs": [
    {
     "data": {
      "text/plain": [
       "Party\n",
       "democrats      167\n",
       "republican     114\n",
       "independent    104\n",
       "Name: count, dtype: int64"
      ]
     },
     "execution_count": 25,
     "metadata": {},
     "output_type": "execute_result"
    }
   ],
   "source": [
    "df[\"Party\"].value_counts()"
   ]
  },
  {
   "cell_type": "code",
   "execution_count": 82,
   "id": "e22c01f6-5b6d-4c11-b725-4aacc132f0c2",
   "metadata": {},
   "outputs": [
    {
     "data": {
      "text/html": [
       "<style>#sk-container-id-9 {\n",
       "  /* Definition of color scheme common for light and dark mode */\n",
       "  --sklearn-color-text: black;\n",
       "  --sklearn-color-line: gray;\n",
       "  /* Definition of color scheme for unfitted estimators */\n",
       "  --sklearn-color-unfitted-level-0: #fff5e6;\n",
       "  --sklearn-color-unfitted-level-1: #f6e4d2;\n",
       "  --sklearn-color-unfitted-level-2: #ffe0b3;\n",
       "  --sklearn-color-unfitted-level-3: chocolate;\n",
       "  /* Definition of color scheme for fitted estimators */\n",
       "  --sklearn-color-fitted-level-0: #f0f8ff;\n",
       "  --sklearn-color-fitted-level-1: #d4ebff;\n",
       "  --sklearn-color-fitted-level-2: #b3dbfd;\n",
       "  --sklearn-color-fitted-level-3: cornflowerblue;\n",
       "\n",
       "  /* Specific color for light theme */\n",
       "  --sklearn-color-text-on-default-background: var(--sg-text-color, var(--theme-code-foreground, var(--jp-content-font-color1, black)));\n",
       "  --sklearn-color-background: var(--sg-background-color, var(--theme-background, var(--jp-layout-color0, white)));\n",
       "  --sklearn-color-border-box: var(--sg-text-color, var(--theme-code-foreground, var(--jp-content-font-color1, black)));\n",
       "  --sklearn-color-icon: #696969;\n",
       "\n",
       "  @media (prefers-color-scheme: dark) {\n",
       "    /* Redefinition of color scheme for dark theme */\n",
       "    --sklearn-color-text-on-default-background: var(--sg-text-color, var(--theme-code-foreground, var(--jp-content-font-color1, white)));\n",
       "    --sklearn-color-background: var(--sg-background-color, var(--theme-background, var(--jp-layout-color0, #111)));\n",
       "    --sklearn-color-border-box: var(--sg-text-color, var(--theme-code-foreground, var(--jp-content-font-color1, white)));\n",
       "    --sklearn-color-icon: #878787;\n",
       "  }\n",
       "}\n",
       "\n",
       "#sk-container-id-9 {\n",
       "  color: var(--sklearn-color-text);\n",
       "}\n",
       "\n",
       "#sk-container-id-9 pre {\n",
       "  padding: 0;\n",
       "}\n",
       "\n",
       "#sk-container-id-9 input.sk-hidden--visually {\n",
       "  border: 0;\n",
       "  clip: rect(1px 1px 1px 1px);\n",
       "  clip: rect(1px, 1px, 1px, 1px);\n",
       "  height: 1px;\n",
       "  margin: -1px;\n",
       "  overflow: hidden;\n",
       "  padding: 0;\n",
       "  position: absolute;\n",
       "  width: 1px;\n",
       "}\n",
       "\n",
       "#sk-container-id-9 div.sk-dashed-wrapped {\n",
       "  border: 1px dashed var(--sklearn-color-line);\n",
       "  margin: 0 0.4em 0.5em 0.4em;\n",
       "  box-sizing: border-box;\n",
       "  padding-bottom: 0.4em;\n",
       "  background-color: var(--sklearn-color-background);\n",
       "}\n",
       "\n",
       "#sk-container-id-9 div.sk-container {\n",
       "  /* jupyter's `normalize.less` sets `[hidden] { display: none; }`\n",
       "     but bootstrap.min.css set `[hidden] { display: none !important; }`\n",
       "     so we also need the `!important` here to be able to override the\n",
       "     default hidden behavior on the sphinx rendered scikit-learn.org.\n",
       "     See: https://github.com/scikit-learn/scikit-learn/issues/21755 */\n",
       "  display: inline-block !important;\n",
       "  position: relative;\n",
       "}\n",
       "\n",
       "#sk-container-id-9 div.sk-text-repr-fallback {\n",
       "  display: none;\n",
       "}\n",
       "\n",
       "div.sk-parallel-item,\n",
       "div.sk-serial,\n",
       "div.sk-item {\n",
       "  /* draw centered vertical line to link estimators */\n",
       "  background-image: linear-gradient(var(--sklearn-color-text-on-default-background), var(--sklearn-color-text-on-default-background));\n",
       "  background-size: 2px 100%;\n",
       "  background-repeat: no-repeat;\n",
       "  background-position: center center;\n",
       "}\n",
       "\n",
       "/* Parallel-specific style estimator block */\n",
       "\n",
       "#sk-container-id-9 div.sk-parallel-item::after {\n",
       "  content: \"\";\n",
       "  width: 100%;\n",
       "  border-bottom: 2px solid var(--sklearn-color-text-on-default-background);\n",
       "  flex-grow: 1;\n",
       "}\n",
       "\n",
       "#sk-container-id-9 div.sk-parallel {\n",
       "  display: flex;\n",
       "  align-items: stretch;\n",
       "  justify-content: center;\n",
       "  background-color: var(--sklearn-color-background);\n",
       "  position: relative;\n",
       "}\n",
       "\n",
       "#sk-container-id-9 div.sk-parallel-item {\n",
       "  display: flex;\n",
       "  flex-direction: column;\n",
       "}\n",
       "\n",
       "#sk-container-id-9 div.sk-parallel-item:first-child::after {\n",
       "  align-self: flex-end;\n",
       "  width: 50%;\n",
       "}\n",
       "\n",
       "#sk-container-id-9 div.sk-parallel-item:last-child::after {\n",
       "  align-self: flex-start;\n",
       "  width: 50%;\n",
       "}\n",
       "\n",
       "#sk-container-id-9 div.sk-parallel-item:only-child::after {\n",
       "  width: 0;\n",
       "}\n",
       "\n",
       "/* Serial-specific style estimator block */\n",
       "\n",
       "#sk-container-id-9 div.sk-serial {\n",
       "  display: flex;\n",
       "  flex-direction: column;\n",
       "  align-items: center;\n",
       "  background-color: var(--sklearn-color-background);\n",
       "  padding-right: 1em;\n",
       "  padding-left: 1em;\n",
       "}\n",
       "\n",
       "\n",
       "/* Toggleable style: style used for estimator/Pipeline/ColumnTransformer box that is\n",
       "clickable and can be expanded/collapsed.\n",
       "- Pipeline and ColumnTransformer use this feature and define the default style\n",
       "- Estimators will overwrite some part of the style using the `sk-estimator` class\n",
       "*/\n",
       "\n",
       "/* Pipeline and ColumnTransformer style (default) */\n",
       "\n",
       "#sk-container-id-9 div.sk-toggleable {\n",
       "  /* Default theme specific background. It is overwritten whether we have a\n",
       "  specific estimator or a Pipeline/ColumnTransformer */\n",
       "  background-color: var(--sklearn-color-background);\n",
       "}\n",
       "\n",
       "/* Toggleable label */\n",
       "#sk-container-id-9 label.sk-toggleable__label {\n",
       "  cursor: pointer;\n",
       "  display: block;\n",
       "  width: 100%;\n",
       "  margin-bottom: 0;\n",
       "  padding: 0.5em;\n",
       "  box-sizing: border-box;\n",
       "  text-align: center;\n",
       "}\n",
       "\n",
       "#sk-container-id-9 label.sk-toggleable__label-arrow:before {\n",
       "  /* Arrow on the left of the label */\n",
       "  content: \"▸\";\n",
       "  float: left;\n",
       "  margin-right: 0.25em;\n",
       "  color: var(--sklearn-color-icon);\n",
       "}\n",
       "\n",
       "#sk-container-id-9 label.sk-toggleable__label-arrow:hover:before {\n",
       "  color: var(--sklearn-color-text);\n",
       "}\n",
       "\n",
       "/* Toggleable content - dropdown */\n",
       "\n",
       "#sk-container-id-9 div.sk-toggleable__content {\n",
       "  max-height: 0;\n",
       "  max-width: 0;\n",
       "  overflow: hidden;\n",
       "  text-align: left;\n",
       "  /* unfitted */\n",
       "  background-color: var(--sklearn-color-unfitted-level-0);\n",
       "}\n",
       "\n",
       "#sk-container-id-9 div.sk-toggleable__content.fitted {\n",
       "  /* fitted */\n",
       "  background-color: var(--sklearn-color-fitted-level-0);\n",
       "}\n",
       "\n",
       "#sk-container-id-9 div.sk-toggleable__content pre {\n",
       "  margin: 0.2em;\n",
       "  border-radius: 0.25em;\n",
       "  color: var(--sklearn-color-text);\n",
       "  /* unfitted */\n",
       "  background-color: var(--sklearn-color-unfitted-level-0);\n",
       "}\n",
       "\n",
       "#sk-container-id-9 div.sk-toggleable__content.fitted pre {\n",
       "  /* unfitted */\n",
       "  background-color: var(--sklearn-color-fitted-level-0);\n",
       "}\n",
       "\n",
       "#sk-container-id-9 input.sk-toggleable__control:checked~div.sk-toggleable__content {\n",
       "  /* Expand drop-down */\n",
       "  max-height: 200px;\n",
       "  max-width: 100%;\n",
       "  overflow: auto;\n",
       "}\n",
       "\n",
       "#sk-container-id-9 input.sk-toggleable__control:checked~label.sk-toggleable__label-arrow:before {\n",
       "  content: \"▾\";\n",
       "}\n",
       "\n",
       "/* Pipeline/ColumnTransformer-specific style */\n",
       "\n",
       "#sk-container-id-9 div.sk-label input.sk-toggleable__control:checked~label.sk-toggleable__label {\n",
       "  color: var(--sklearn-color-text);\n",
       "  background-color: var(--sklearn-color-unfitted-level-2);\n",
       "}\n",
       "\n",
       "#sk-container-id-9 div.sk-label.fitted input.sk-toggleable__control:checked~label.sk-toggleable__label {\n",
       "  background-color: var(--sklearn-color-fitted-level-2);\n",
       "}\n",
       "\n",
       "/* Estimator-specific style */\n",
       "\n",
       "/* Colorize estimator box */\n",
       "#sk-container-id-9 div.sk-estimator input.sk-toggleable__control:checked~label.sk-toggleable__label {\n",
       "  /* unfitted */\n",
       "  background-color: var(--sklearn-color-unfitted-level-2);\n",
       "}\n",
       "\n",
       "#sk-container-id-9 div.sk-estimator.fitted input.sk-toggleable__control:checked~label.sk-toggleable__label {\n",
       "  /* fitted */\n",
       "  background-color: var(--sklearn-color-fitted-level-2);\n",
       "}\n",
       "\n",
       "#sk-container-id-9 div.sk-label label.sk-toggleable__label,\n",
       "#sk-container-id-9 div.sk-label label {\n",
       "  /* The background is the default theme color */\n",
       "  color: var(--sklearn-color-text-on-default-background);\n",
       "}\n",
       "\n",
       "/* On hover, darken the color of the background */\n",
       "#sk-container-id-9 div.sk-label:hover label.sk-toggleable__label {\n",
       "  color: var(--sklearn-color-text);\n",
       "  background-color: var(--sklearn-color-unfitted-level-2);\n",
       "}\n",
       "\n",
       "/* Label box, darken color on hover, fitted */\n",
       "#sk-container-id-9 div.sk-label.fitted:hover label.sk-toggleable__label.fitted {\n",
       "  color: var(--sklearn-color-text);\n",
       "  background-color: var(--sklearn-color-fitted-level-2);\n",
       "}\n",
       "\n",
       "/* Estimator label */\n",
       "\n",
       "#sk-container-id-9 div.sk-label label {\n",
       "  font-family: monospace;\n",
       "  font-weight: bold;\n",
       "  display: inline-block;\n",
       "  line-height: 1.2em;\n",
       "}\n",
       "\n",
       "#sk-container-id-9 div.sk-label-container {\n",
       "  text-align: center;\n",
       "}\n",
       "\n",
       "/* Estimator-specific */\n",
       "#sk-container-id-9 div.sk-estimator {\n",
       "  font-family: monospace;\n",
       "  border: 1px dotted var(--sklearn-color-border-box);\n",
       "  border-radius: 0.25em;\n",
       "  box-sizing: border-box;\n",
       "  margin-bottom: 0.5em;\n",
       "  /* unfitted */\n",
       "  background-color: var(--sklearn-color-unfitted-level-0);\n",
       "}\n",
       "\n",
       "#sk-container-id-9 div.sk-estimator.fitted {\n",
       "  /* fitted */\n",
       "  background-color: var(--sklearn-color-fitted-level-0);\n",
       "}\n",
       "\n",
       "/* on hover */\n",
       "#sk-container-id-9 div.sk-estimator:hover {\n",
       "  /* unfitted */\n",
       "  background-color: var(--sklearn-color-unfitted-level-2);\n",
       "}\n",
       "\n",
       "#sk-container-id-9 div.sk-estimator.fitted:hover {\n",
       "  /* fitted */\n",
       "  background-color: var(--sklearn-color-fitted-level-2);\n",
       "}\n",
       "\n",
       "/* Specification for estimator info (e.g. \"i\" and \"?\") */\n",
       "\n",
       "/* Common style for \"i\" and \"?\" */\n",
       "\n",
       ".sk-estimator-doc-link,\n",
       "a:link.sk-estimator-doc-link,\n",
       "a:visited.sk-estimator-doc-link {\n",
       "  float: right;\n",
       "  font-size: smaller;\n",
       "  line-height: 1em;\n",
       "  font-family: monospace;\n",
       "  background-color: var(--sklearn-color-background);\n",
       "  border-radius: 1em;\n",
       "  height: 1em;\n",
       "  width: 1em;\n",
       "  text-decoration: none !important;\n",
       "  margin-left: 1ex;\n",
       "  /* unfitted */\n",
       "  border: var(--sklearn-color-unfitted-level-1) 1pt solid;\n",
       "  color: var(--sklearn-color-unfitted-level-1);\n",
       "}\n",
       "\n",
       ".sk-estimator-doc-link.fitted,\n",
       "a:link.sk-estimator-doc-link.fitted,\n",
       "a:visited.sk-estimator-doc-link.fitted {\n",
       "  /* fitted */\n",
       "  border: var(--sklearn-color-fitted-level-1) 1pt solid;\n",
       "  color: var(--sklearn-color-fitted-level-1);\n",
       "}\n",
       "\n",
       "/* On hover */\n",
       "div.sk-estimator:hover .sk-estimator-doc-link:hover,\n",
       ".sk-estimator-doc-link:hover,\n",
       "div.sk-label-container:hover .sk-estimator-doc-link:hover,\n",
       ".sk-estimator-doc-link:hover {\n",
       "  /* unfitted */\n",
       "  background-color: var(--sklearn-color-unfitted-level-3);\n",
       "  color: var(--sklearn-color-background);\n",
       "  text-decoration: none;\n",
       "}\n",
       "\n",
       "div.sk-estimator.fitted:hover .sk-estimator-doc-link.fitted:hover,\n",
       ".sk-estimator-doc-link.fitted:hover,\n",
       "div.sk-label-container:hover .sk-estimator-doc-link.fitted:hover,\n",
       ".sk-estimator-doc-link.fitted:hover {\n",
       "  /* fitted */\n",
       "  background-color: var(--sklearn-color-fitted-level-3);\n",
       "  color: var(--sklearn-color-background);\n",
       "  text-decoration: none;\n",
       "}\n",
       "\n",
       "/* Span, style for the box shown on hovering the info icon */\n",
       ".sk-estimator-doc-link span {\n",
       "  display: none;\n",
       "  z-index: 9999;\n",
       "  position: relative;\n",
       "  font-weight: normal;\n",
       "  right: .2ex;\n",
       "  padding: .5ex;\n",
       "  margin: .5ex;\n",
       "  width: min-content;\n",
       "  min-width: 20ex;\n",
       "  max-width: 50ex;\n",
       "  color: var(--sklearn-color-text);\n",
       "  box-shadow: 2pt 2pt 4pt #999;\n",
       "  /* unfitted */\n",
       "  background: var(--sklearn-color-unfitted-level-0);\n",
       "  border: .5pt solid var(--sklearn-color-unfitted-level-3);\n",
       "}\n",
       "\n",
       ".sk-estimator-doc-link.fitted span {\n",
       "  /* fitted */\n",
       "  background: var(--sklearn-color-fitted-level-0);\n",
       "  border: var(--sklearn-color-fitted-level-3);\n",
       "}\n",
       "\n",
       ".sk-estimator-doc-link:hover span {\n",
       "  display: block;\n",
       "}\n",
       "\n",
       "/* \"?\"-specific style due to the `<a>` HTML tag */\n",
       "\n",
       "#sk-container-id-9 a.estimator_doc_link {\n",
       "  float: right;\n",
       "  font-size: 1rem;\n",
       "  line-height: 1em;\n",
       "  font-family: monospace;\n",
       "  background-color: var(--sklearn-color-background);\n",
       "  border-radius: 1rem;\n",
       "  height: 1rem;\n",
       "  width: 1rem;\n",
       "  text-decoration: none;\n",
       "  /* unfitted */\n",
       "  color: var(--sklearn-color-unfitted-level-1);\n",
       "  border: var(--sklearn-color-unfitted-level-1) 1pt solid;\n",
       "}\n",
       "\n",
       "#sk-container-id-9 a.estimator_doc_link.fitted {\n",
       "  /* fitted */\n",
       "  border: var(--sklearn-color-fitted-level-1) 1pt solid;\n",
       "  color: var(--sklearn-color-fitted-level-1);\n",
       "}\n",
       "\n",
       "/* On hover */\n",
       "#sk-container-id-9 a.estimator_doc_link:hover {\n",
       "  /* unfitted */\n",
       "  background-color: var(--sklearn-color-unfitted-level-3);\n",
       "  color: var(--sklearn-color-background);\n",
       "  text-decoration: none;\n",
       "}\n",
       "\n",
       "#sk-container-id-9 a.estimator_doc_link.fitted:hover {\n",
       "  /* fitted */\n",
       "  background-color: var(--sklearn-color-fitted-level-3);\n",
       "}\n",
       "</style><div id=\"sk-container-id-9\" class=\"sk-top-container\"><div class=\"sk-text-repr-fallback\"><pre>RandomForestClassifier(n_estimators=150)</pre><b>In a Jupyter environment, please rerun this cell to show the HTML representation or trust the notebook. <br />On GitHub, the HTML representation is unable to render, please try loading this page with nbviewer.org.</b></div><div class=\"sk-container\" hidden><div class=\"sk-item\"><div class=\"sk-estimator fitted sk-toggleable\"><input class=\"sk-toggleable__control sk-hidden--visually\" id=\"sk-estimator-id-9\" type=\"checkbox\" checked><label for=\"sk-estimator-id-9\" class=\"sk-toggleable__label fitted sk-toggleable__label-arrow fitted\">&nbsp;&nbsp;RandomForestClassifier<a class=\"sk-estimator-doc-link fitted\" rel=\"noreferrer\" target=\"_blank\" href=\"https://scikit-learn.org/1.4/modules/generated/sklearn.ensemble.RandomForestClassifier.html\">?<span>Documentation for RandomForestClassifier</span></a><span class=\"sk-estimator-doc-link fitted\">i<span>Fitted</span></span></label><div class=\"sk-toggleable__content fitted\"><pre>RandomForestClassifier(n_estimators=150)</pre></div> </div></div></div></div>"
      ],
      "text/plain": [
       "RandomForestClassifier(n_estimators=150)"
      ]
     },
     "execution_count": 82,
     "metadata": {},
     "output_type": "execute_result"
    }
   ],
   "source": [
    "# split data into train and test\n",
    "X_train, X_test, y_train, y_test = train_test_split(\n",
    "    df.embedding, df.Party, test_size=0.2, random_state=42)\n",
    "\n",
    "# train random forest classifier\n",
    "clf = RandomForestClassifier(n_estimators=150)\n",
    "clf.fit(list(X_train), y_train)"
   ]
  },
  {
   "cell_type": "code",
   "execution_count": 83,
   "id": "e0c88638-e82a-4184-9ff5-c069872e4a11",
   "metadata": {},
   "outputs": [
    {
     "name": "stdout",
     "output_type": "stream",
     "text": [
      "              precision    recall  f1-score   support\n",
      "\n",
      "   democrats       0.81      1.00      0.89        29\n",
      " independent       0.93      0.88      0.90        16\n",
      "  republican       1.00      0.81      0.90        32\n",
      "\n",
      "    accuracy                           0.90        77\n",
      "   macro avg       0.91      0.90      0.90        77\n",
      "weighted avg       0.91      0.90      0.90        77\n",
      "\n"
     ]
    }
   ],
   "source": [
    "preds = clf.predict(list(X_test))\n",
    "report = classification_report(list(y_test), preds)\n",
    "print(report)"
   ]
  },
  {
   "cell_type": "code",
   "execution_count": 60,
   "id": "db8d305d-8b40-4714-b52a-aab837261f68",
   "metadata": {},
   "outputs": [
    {
     "name": "stdout",
     "output_type": "stream",
     "text": [
      "['Amy Klobuchar is a democrats']\n"
     ]
    }
   ],
   "source": [
    "# Demonstration\n",
    "word = \"Amy Klobuchar\"\n",
    "\n",
    "print(word + \" is a \" + clf.predict([get_embedding(word)]))"
   ]
  },
  {
   "cell_type": "markdown",
   "id": "577308b4-b5fa-485d-9806-78474046c56b",
   "metadata": {},
   "source": [
    "The overall f1-score suggests the high performance of this model."
   ]
  },
  {
   "cell_type": "markdown",
   "id": "3d55fb1f-3c16-4d6c-9b77-258b7e72ca02",
   "metadata": {},
   "source": [
    "## Zero Shot Classification"
   ]
  },
  {
   "cell_type": "markdown",
   "id": "0305f98b-88a4-477c-9717-e32dfc1a54fc",
   "metadata": {},
   "source": [
    "I further attempt zero shot classification by comparing the cosine distance to republican words or democratic words. If a word is closer to republican word, it would be classify as republican; otherwise, it would be classified as democrats. "
   ]
  },
  {
   "cell_type": "code",
   "execution_count": 8,
   "id": "47482163-336e-42e5-b96b-b92ca641551c",
   "metadata": {},
   "outputs": [],
   "source": [
    "import numpy as np\n",
    "import matplotlib.pyplot as plt"
   ]
  },
  {
   "cell_type": "code",
   "execution_count": 9,
   "id": "6702c600-982c-4fdb-8ec7-cd542985987a",
   "metadata": {},
   "outputs": [],
   "source": [
    "# base vectors for republican and democrats\n",
    "republican_words = [\"Republican\", \"Republican Party\", \"RNC\", \"GOP\", \"Donlad Trump\", \"Ted Cruz\", \"pro-life\", \"conservative\"]\n",
    "democratic_words = [\"Democrats\", \"Democratic Party\", \"DNC\", \"Joe Biden\", \"Barack Obama\", \"Kamala Harris\", \"pro-choice\", \"liberal\"]"
   ]
  },
  {
   "cell_type": "code",
   "execution_count": 10,
   "id": "2ff0d253-0bd6-4ca2-a1f5-0d3daeaae386",
   "metadata": {},
   "outputs": [],
   "source": [
    "republican_embedding = [get_embedding(x) for x in republican_words]\n",
    "democratic_embedding = [get_embedding(x) for x in democratic_words]\n",
    "\n",
    "republican_embedding = np.sum(republican_embedding, axis=0) / len(republican_embedding)\n",
    "democratic_embedding = np.sum(democratic_embedding, axis=0) / len(democratic_embedding)"
   ]
  },
  {
   "cell_type": "code",
   "execution_count": 13,
   "id": "20ca5750-b91d-4b54-98e8-22e5be0a544e",
   "metadata": {},
   "outputs": [],
   "source": [
    "def get_party_similiarity(name = \"\", name_embedding = None, r_embedding = republican_embedding, d_embedding = democratic_embedding):\n",
    "    if name_embedding is None:\n",
    "        name_embedding = get_embedding(name)\n",
    "    r_similiarity = get_cos_similiarity(name_embedding, r_embedding)\n",
    "    d_similiarity = get_cos_similiarity(name_embedding, d_embedding)\n",
    "\n",
    "    if r_similiarity > d_similiarity:\n",
    "        return \"republican\"       \n",
    "    else:\n",
    "        return \"democrats\""
   ]
  },
  {
   "cell_type": "code",
   "execution_count": 15,
   "id": "a24b193a-0305-4535-9d50-c833fff0f76f",
   "metadata": {},
   "outputs": [
    {
     "name": "stdout",
     "output_type": "stream",
     "text": [
      "Mitch McConnell is a republican\n",
      "Amy Klobuchar is a democrats\n"
     ]
    }
   ],
   "source": [
    "# demo\n",
    "print(\"Mitch McConnell is a \" + get_party_similiarity(\"Mitch McConnell\"))\n",
    "print(\"Amy Klobuchar is a \" + get_party_similiarity(\"Amy Klobuchar\"))"
   ]
  },
  {
   "cell_type": "code",
   "execution_count": 19,
   "id": "3475b881-4e67-4818-b638-168ff34ac052",
   "metadata": {},
   "outputs": [
    {
     "name": "stdout",
     "output_type": "stream",
     "text": [
      "Trump is a republican\n"
     ]
    }
   ],
   "source": [
    "# demo of classification on a single word\n",
    "\n",
    "word = \"Trump\"\n",
    "print(word + \" is a \" + get_party_similiarity(word))"
   ]
  },
  {
   "cell_type": "code",
   "execution_count": 257,
   "id": "9670ba05-e83d-47cc-9ae5-26d2099fd109",
   "metadata": {
    "scrolled": true
   },
   "outputs": [],
   "source": [
    "# test performance\n",
    "y_pred = [get_party_similiarity(name_embedding = x) for x in X_test]\n",
    "y_pred = pd.Series(y_pred)"
   ]
  },
  {
   "cell_type": "code",
   "execution_count": 258,
   "id": "e0c4ebbd-f064-4c4d-9649-f20188d42a3a",
   "metadata": {},
   "outputs": [
    {
     "name": "stdout",
     "output_type": "stream",
     "text": [
      "              precision    recall  f1-score   support\n",
      "\n",
      "   democrats       0.82      0.97      0.89        32\n",
      "  republican       0.95      0.72      0.82        25\n",
      "\n",
      "    accuracy                           0.86        57\n",
      "   macro avg       0.88      0.84      0.85        57\n",
      "weighted avg       0.87      0.86      0.86        57\n",
      "\n"
     ]
    }
   ],
   "source": [
    "report = classification_report(list(y_test), y_pred)\n",
    "print(report)"
   ]
  },
  {
   "cell_type": "markdown",
   "id": "bc28fe23-fe78-42a5-9eb9-d44ad8a25cc1",
   "metadata": {},
   "source": [
    "The performance is slightly worse, but still with reasonably high f1 score."
   ]
  }
 ],
 "metadata": {
  "kernelspec": {
   "display_name": "Python 3 (ipykernel)",
   "language": "python",
   "name": "python3"
  },
  "language_info": {
   "codemirror_mode": {
    "name": "ipython",
    "version": 3
   },
   "file_extension": ".py",
   "mimetype": "text/x-python",
   "name": "python",
   "nbconvert_exporter": "python",
   "pygments_lexer": "ipython3",
   "version": "3.9.16"
  }
 },
 "nbformat": 4,
 "nbformat_minor": 5
}
