{
 "cells": [
  {
   "cell_type": "markdown",
   "id": "9fd06c75-0e76-42f0-addc-1c3bd2b93732",
   "metadata": {
    "editable": true,
    "slideshow": {
     "slide_type": ""
    },
    "tags": []
   },
   "source": [
    "# visualization"
   ]
  },
  {
   "cell_type": "markdown",
   "id": "aca2eee8-96f8-47ca-8fc7-07d4b2a08b30",
   "metadata": {},
   "source": [
    "Research Question:\n",
    "\n",
    "Comparing the online frontpage of popular left-leaning and right-leaning news media, I plan to extract and analyze the difference of news, especially political news, coverage by comparing the headlines. specially, I am interested in:\n",
    "\n",
    "1.\tThe selective coverage of political figures and topics, as well as the trends of news coverage\n",
    "\n",
    "2.\tThe sentiment/framing toward political figures or topics \n"
   ]
  },
  {
   "cell_type": "code",
   "execution_count": null,
   "id": "528895ea-79ba-459b-9731-3123650a6d73",
   "metadata": {},
   "outputs": [],
   "source": []
  }
 ],
 "metadata": {
  "kernelspec": {
   "display_name": "Python 3 (ipykernel)",
   "language": "python",
   "name": "python3"
  },
  "language_info": {
   "codemirror_mode": {
    "name": "ipython",
    "version": 3
   },
   "file_extension": ".py",
   "mimetype": "text/x-python",
   "name": "python",
   "nbconvert_exporter": "python",
   "pygments_lexer": "ipython3",
   "version": "3.9.16"
  }
 },
 "nbformat": 4,
 "nbformat_minor": 5
}
